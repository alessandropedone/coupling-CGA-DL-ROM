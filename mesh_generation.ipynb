{
 "cells": [
  {
   "cell_type": "markdown",
   "id": "238b428f",
   "metadata": {},
   "source": [
    "## Function to modify the distance between plates"
   ]
  },
  {
   "cell_type": "code",
   "execution_count": 2,
   "id": "9196e370",
   "metadata": {},
   "outputs": [],
   "source": [
    "import re\n",
    "import os\n",
    "\n",
    "def modify_plates_distance(new_gap):\n",
    "    with open(\"geometry.geo\", \"r\") as f:\n",
    "        lines = f.readlines()\n",
    "\n",
    "    new_lines = []\n",
    "    for line in lines:\n",
    "        # Match Rectangle A (upper)\n",
    "        if re.match(r'\\s*Rectangle\\(1\\)', line):\n",
    "            # Calculate new Y = gap / 2\n",
    "            y = new_gap / 2\n",
    "            new_line = f'Rectangle(1) = {{-50, {y}+2, 0, 100, 4, 0}};\\n'\n",
    "            new_lines.append(new_line)\n",
    "        # Match Rectangle B (lower)\n",
    "        elif re.match(r'\\s*Rectangle\\(2\\)', line):\n",
    "            # Calculate new Y = -gap / 2\n",
    "            y = -new_gap / 2\n",
    "            new_line = f'Rectangle(2) = {{-50, {y}-2, 0, 100, 4, 0}};\\n'\n",
    "            new_lines.append(new_line)\n",
    "        else:\n",
    "            new_lines.append(line)\n",
    "\n",
    "    # Define the directory and file name\n",
    "    directory = \"meshes/translation\"\n",
    "    file_name = \"geometry_distance_\" + str(new_gap) + \".geo\"\n",
    "    # Create the directory if it doesn't exist\n",
    "    os.makedirs(directory, exist_ok=True)\n",
    "    # Create the file in the directory\n",
    "    file_path = os.path.join(directory, file_name)\n",
    "    with open(file_path, \"w\") as f:\n",
    "        f.writelines(new_lines)"
   ]
  },
  {
   "cell_type": "markdown",
   "id": "915631e0",
   "metadata": {},
   "source": [
    "# Function to modify overetch of plates"
   ]
  },
  {
   "cell_type": "code",
   "execution_count": 3,
   "id": "12494468",
   "metadata": {},
   "outputs": [],
   "source": [
    "import re\n",
    "import os\n",
    "\n",
    "def modify_plates_overetch(overetch):\n",
    "    with open(\"geometry.geo\", \"r\") as f:\n",
    "        lines = f.readlines()\n",
    "\n",
    "    new_lines = []\n",
    "    for line in lines:\n",
    "        # Match Rectangle A (upper)\n",
    "        if re.match(r'\\s*Rectangle\\(1\\)', line):\n",
    "            y = 2*overetch\n",
    "            thickness = 4-y\n",
    "            new_line = f'Rectangle(1) = {{-50+{overetch}, 1+{thickness/2}, 0, 100-{y}, {thickness}, 0}};\\n'\n",
    "            new_lines.append(new_line)\n",
    "        # Match Rectangle B (lower)\n",
    "        elif re.match(r'\\s*Rectangle\\(2\\)', line):\n",
    "            new_line = f'Rectangle(2) = {{-50+{overetch}, -1-{thickness/2}, 0, 100-{y}, {thickness}, 0}};\\n'\n",
    "            new_lines.append(new_line)\n",
    "        else:\n",
    "            new_lines.append(line)\n",
    "\n",
    "    # Define the directory and file name\n",
    "    directory = \"meshes/deformation\"\n",
    "    file_name = \"geometry_overetch_\" + str(overetch) + \".geo\"\n",
    "    # Create the directory if it doesn't exist\n",
    "    os.makedirs(directory, exist_ok=True)\n",
    "    # Create the file in the directory\n",
    "    file_path = os.path.join(directory, file_name)\n",
    "    with open(file_path, \"w\") as f:\n",
    "        f.writelines(new_lines)"
   ]
  },
  {
   "cell_type": "markdown",
   "id": "d07d9fc7",
   "metadata": {},
   "source": [
    "## Function to rotate a rectangle"
   ]
  },
  {
   "cell_type": "code",
   "execution_count": 4,
   "id": "3466babd",
   "metadata": {},
   "outputs": [],
   "source": [
    "import re\n",
    "import os\n",
    "from math import pi\n",
    "\n",
    "def rotate_upper_plate(angle):\n",
    "    with open(\"geometry.geo\", \"r\") as f:\n",
    "        lines = f.readlines()\n",
    "\n",
    "    new_lines = []\n",
    "    for line in lines:\n",
    "        if \"Rotate\" in line:\n",
    "            # Replace the last value before the closing } {\n",
    "            new_line = re.sub(r'(-?\\d+(\\.\\d+)?)\\s*\\}\\s*\\{', f'{angle*pi/180} }} {{', line)\n",
    "            new_lines.append(new_line)\n",
    "        else:\n",
    "            new_lines.append(line)\n",
    "\n",
    "    # Define the directory and file name\n",
    "    directory = \"meshes/rotation\"\n",
    "    file_name = \"geometry_angle_\" + str(angle) + \".geo\"\n",
    "    # Create the directory if it doesn't exist\n",
    "    os.makedirs(directory, exist_ok=True)\n",
    "    # Create the file in the directory\n",
    "    file_path = os.path.join(directory, file_name)\n",
    "    with open(file_path, \"w\") as f:\n",
    "        f.writelines(new_lines)"
   ]
  },
  {
   "cell_type": "markdown",
   "id": "b6915d13",
   "metadata": {},
   "source": [
    "## Generation of different geometries"
   ]
  },
  {
   "cell_type": "code",
   "execution_count": 5,
   "id": "6019273f",
   "metadata": {},
   "outputs": [
    {
     "name": "stdout",
     "output_type": "stream",
     "text": [
      "Mesh files generated successfully.\n"
     ]
    }
   ],
   "source": [
    "import numpy as np\n",
    "def generate_meshes():\n",
    "    # Generate 40 equispaced values\n",
    "    distances = np.linspace(1.5, 2.5, 40)\n",
    "    overetches = np.linspace(0.1, 0.6, 40)\n",
    "    angles = np.linspace(1, -1, 40)\n",
    "\n",
    "    for d in distances:\n",
    "        modify_plates_distance(d)\n",
    "\n",
    "    for o in overetches:\n",
    "        modify_plates_overetch(o)\n",
    "\n",
    "    for a in angles:\n",
    "        rotate_upper_plate(a)\n",
    "\n",
    "generate_meshes()\n",
    "print(\"Mesh files generated successfully.\")"
   ]
  },
  {
   "cell_type": "markdown",
   "id": "cc7f138e",
   "metadata": {},
   "source": [
    "## Mesh generation"
   ]
  },
  {
   "cell_type": "code",
   "execution_count": 26,
   "id": "7efac5be",
   "metadata": {},
   "outputs": [
    {
     "name": "stdout",
     "output_type": "stream",
     "text": [
      "Info    : Reading 'geometry.geo'...\n"
     ]
    },
    {
     "name": "stderr",
     "output_type": "stream",
     "text": [
      "Error   : OpenCASCADE wire or curve loop with tag 4 already exists\n"
     ]
    },
    {
     "ename": "Exception",
     "evalue": "OpenCASCADE wire or curve loop with tag 4 already exists",
     "output_type": "error",
     "traceback": [
      "\u001b[0;31m---------------------------------------------------------------------------\u001b[0m",
      "\u001b[0;31mException\u001b[0m                                 Traceback (most recent call last)",
      "\u001b[0;32m/tmp/ipykernel_79517/3125257464.py\u001b[0m in \u001b[0;36m?\u001b[0;34m()\u001b[0m\n\u001b[1;32m     10\u001b[0m \u001b[0;31m# Path to your .geo file\u001b[0m\u001b[0;34m\u001b[0m\u001b[0;34m\u001b[0m\u001b[0m\n\u001b[1;32m     11\u001b[0m \u001b[0mgeo_file\u001b[0m \u001b[0;34m=\u001b[0m \u001b[0;34m\"geometry.geo\"\u001b[0m\u001b[0;34m\u001b[0m\u001b[0;34m\u001b[0m\u001b[0m\n\u001b[1;32m     12\u001b[0m \u001b[0;34m\u001b[0m\u001b[0m\n\u001b[1;32m     13\u001b[0m \u001b[0;31m# Load the .geo file\u001b[0m\u001b[0;34m\u001b[0m\u001b[0;34m\u001b[0m\u001b[0m\n\u001b[0;32m---> 14\u001b[0;31m \u001b[0mgmsh\u001b[0m\u001b[0;34m.\u001b[0m\u001b[0mopen\u001b[0m\u001b[0;34m(\u001b[0m\u001b[0mgeo_file\u001b[0m\u001b[0;34m)\u001b[0m\u001b[0;34m\u001b[0m\u001b[0;34m\u001b[0m\u001b[0m\n\u001b[0m\u001b[1;32m     15\u001b[0m \u001b[0;34m\u001b[0m\u001b[0m\n\u001b[1;32m     16\u001b[0m \u001b[0;31m# Generate 2D or 3D mesh depending on your .geo setup\u001b[0m\u001b[0;34m\u001b[0m\u001b[0;34m\u001b[0m\u001b[0m\n\u001b[1;32m     17\u001b[0m \u001b[0;31m# You can also use gmsh.model.mesh.generate(dim) with dim=1,2,3\u001b[0m\u001b[0;34m\u001b[0m\u001b[0;34m\u001b[0m\u001b[0m\n",
      "\u001b[0;32m~/anaconda3/envs/pacs/lib/python3.10/site-packages/gmsh.py\u001b[0m in \u001b[0;36m?\u001b[0;34m(fileName)\u001b[0m\n\u001b[1;32m    337\u001b[0m     lib.gmshOpen(\n\u001b[1;32m    338\u001b[0m         \u001b[0mc_char_p\u001b[0m\u001b[0;34m(\u001b[0m\u001b[0mfileName\u001b[0m\u001b[0;34m.\u001b[0m\u001b[0mencode\u001b[0m\u001b[0;34m(\u001b[0m\u001b[0;34m)\u001b[0m\u001b[0;34m)\u001b[0m\u001b[0;34m,\u001b[0m\u001b[0;34m\u001b[0m\u001b[0;34m\u001b[0m\u001b[0m\n\u001b[1;32m    339\u001b[0m         byref(ierr))\n\u001b[1;32m    340\u001b[0m     \u001b[0;32mif\u001b[0m \u001b[0mierr\u001b[0m\u001b[0;34m.\u001b[0m\u001b[0mvalue\u001b[0m \u001b[0;34m!=\u001b[0m \u001b[0;36m0\u001b[0m\u001b[0;34m:\u001b[0m\u001b[0;34m\u001b[0m\u001b[0;34m\u001b[0m\u001b[0m\n\u001b[0;32m--> 341\u001b[0;31m         \u001b[0;32mraise\u001b[0m \u001b[0mException\u001b[0m\u001b[0;34m(\u001b[0m\u001b[0mlogger\u001b[0m\u001b[0;34m.\u001b[0m\u001b[0mgetLastError\u001b[0m\u001b[0;34m(\u001b[0m\u001b[0;34m)\u001b[0m\u001b[0;34m)\u001b[0m\u001b[0;34m\u001b[0m\u001b[0;34m\u001b[0m\u001b[0m\n\u001b[0m",
      "\u001b[0;31mException\u001b[0m: OpenCASCADE wire or curve loop with tag 4 already exists"
     ]
    }
   ],
   "source": [
    "import gmsh\n",
    "import os\n",
    "\n",
    "# Initialize Gmsh\n",
    "gmsh.initialize()\n",
    "\n",
    "# Optional: Hide Gmsh messages\n",
    "gmsh.option.setNumber(\"General.Terminal\", 1)\n",
    "\n",
    "# Path to your .geo file\n",
    "geo_file = \"geometry.geo\"\n",
    "\n",
    "# Load the .geo file\n",
    "gmsh.open(geo_file)\n",
    "\n",
    "# Generate 2D or 3D mesh depending on your .geo setup\n",
    "# You can also use gmsh.model.mesh.generate(dim) with dim=1,2,3\n",
    "gmsh.model.mesh.generate(2)\n",
    "\n",
    "# Write the mesh to a .msh file\n",
    "msh_file = os.path.splitext(geo_file)[0] + \".msh\"\n",
    "gmsh.write(msh_file)\n",
    "\n",
    "# Finalize Gmsh\n",
    "gmsh.finalize()\n",
    "\n",
    "print(f\"Mesh saved to {msh_file}\")"
   ]
  }
 ],
 "metadata": {
  "kernelspec": {
   "display_name": "pacs",
   "language": "python",
   "name": "python3"
  },
  "language_info": {
   "codemirror_mode": {
    "name": "ipython",
    "version": 3
   },
   "file_extension": ".py",
   "mimetype": "text/x-python",
   "name": "python",
   "nbconvert_exporter": "python",
   "pygments_lexer": "ipython3",
   "version": "3.10.13"
  }
 },
 "nbformat": 4,
 "nbformat_minor": 5
}
