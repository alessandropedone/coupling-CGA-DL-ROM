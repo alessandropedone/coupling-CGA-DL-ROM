{
 "cells": [
  {
   "cell_type": "code",
   "execution_count": 3,
   "id": "fc92bb9d",
   "metadata": {},
   "outputs": [
    {
     "data": {
      "application/vnd.jupyter.widget-view+json": {
       "model_id": "52a387506ad446a3a0f660470d51ba01",
       "version_major": 2,
       "version_minor": 0
      },
      "text/plain": [
       "Widget(value='<iframe src=\"http://localhost:36923/index.html?ui=P_0x7f5eea34ad10_0&reconnect=auto\" class=\"pyvi…"
      ]
     },
     "metadata": {},
     "output_type": "display_data"
    }
   ],
   "source": [
    "import pyvista as pv\n",
    "\n",
    "pv.start_xvfb()\n",
    "\n",
    "# Set the Jupyter backend to 'trame' for interactive plotting\n",
    "pv.set_jupyter_backend('trame')\n",
    "\n",
    "# Create a simple 3D sphere\n",
    "sphere = pv.Sphere()\n",
    "\n",
    "# Plot the sphere\n",
    "sphere.plot()"
   ]
  }
 ],
 "metadata": {
  "kernelspec": {
   "display_name": "pacsproject",
   "language": "python",
   "name": "python3"
  },
  "language_info": {
   "codemirror_mode": {
    "name": "ipython",
    "version": 3
   },
   "file_extension": ".py",
   "mimetype": "text/x-python",
   "name": "python",
   "nbconvert_exporter": "python",
   "pygments_lexer": "ipython3",
   "version": "3.10.17"
  }
 },
 "nbformat": 4,
 "nbformat_minor": 5
}
