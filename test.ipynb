{
 "cells": [
  {
   "cell_type": "code",
   "execution_count": 47,
   "id": "98b3f3da",
   "metadata": {},
   "outputs": [
    {
     "name": "stdout",
     "output_type": "stream",
     "text": [
      "Info    : Reading 'circle-capacitor.msh'...\n",
      "Info    : 21 entities\n",
      "Info    : 1325 nodes\n",
      "Info    : 2661 elements\n",
      "Info    : Done reading 'circle-capacitor.msh'\n"
     ]
    },
    {
     "name": "stderr",
     "output_type": "stream",
     "text": [
      "Warning : Gmsh has aleady been initialized\n"
     ]
    }
   ],
   "source": [
    "# read a mesh from file capacitor.msh\n",
    "from mpi4py import MPI\n",
    "from dolfinx.io import gmshio\n",
    "domain, cell_tags, facet_tags = gmshio.read_from_msh(\"circle-capacitor.msh\", MPI.COMM_WORLD, 0, gdim=2)"
   ]
  },
  {
   "cell_type": "code",
   "execution_count": 58,
   "id": "de863ae1",
   "metadata": {},
   "outputs": [],
   "source": [
    "# define finite element function space\n",
    "from dolfinx.fem import functionspace\n",
    "V = functionspace(domain, (\"Lagrange\", 1))\n",
    "\n",
    "# identify the boundary (create facet to cell connectivity required to determine boundary facets)\n",
    "from dolfinx import default_scalar_type\n",
    "from dolfinx.fem import (Constant, dirichletbc, locate_dofs_topological)\n",
    "from dolfinx.fem.petsc import LinearProblem\n",
    "tdim = domain.topology.dim\n",
    "fdim = tdim - 1\n",
    "domain.topology.create_connectivity(fdim, tdim)\n",
    "\n",
    "# Find facets marked with 2 and 3 (the two rectangles)\n",
    "facets_rect1 = facet_tags.find(11)\n",
    "facets_rect2 = facet_tags.find(12)\n",
    "\n",
    "# Locate degrees of freedom\n",
    "dofs_rect1 = locate_dofs_topological(V, fdim, facets_rect1)\n",
    "dofs_rect2 = locate_dofs_topological(V, fdim, facets_rect2)\n",
    "\n",
    "# Define different Dirichlet values\n",
    "u_rect1 = Constant(domain, 0.0)\n",
    "u_rect2 = Constant(domain, 2.0)\n",
    "\n",
    "# Create BCs\n",
    "bc1 = dirichletbc(u_rect1, dofs_rect1, V)\n",
    "bc2 = dirichletbc(u_rect2, dofs_rect2, V)\n",
    "\n",
    "bcs = [bc1, bc2]\n",
    "\n",
    "# trial and test functions\n",
    "import ufl\n",
    "u = ufl.TrialFunction(V)\n",
    "v = ufl.TestFunction(V)\n",
    "\n",
    "# source term\n",
    "from dolfinx import default_scalar_type\n",
    "from dolfinx import fem\n",
    "f = fem.Constant(domain, default_scalar_type(-3.0))\n",
    "\n",
    "# variational problem\n",
    "a = ufl.dot(ufl.grad(u), ufl.grad(v)) * ufl.dx\n",
    "L = f * v * ufl.dx\n",
    "\n",
    "# assemble the system\n",
    "from dolfinx.fem.petsc import LinearProblem\n",
    "problem = LinearProblem(a, L, bcs=bcs, petsc_options={\"ksp_type\": \"preonly\", \"pc_type\": \"lu\"})\n",
    "uh = problem.solve()"
   ]
  },
  {
   "cell_type": "code",
   "execution_count": null,
   "id": "3538a688",
   "metadata": {},
   "outputs": [
    {
     "ename": "KeyboardInterrupt",
     "evalue": "",
     "output_type": "error",
     "traceback": [
      "\u001b[0;31m---------------------------------------------------------------------------\u001b[0m",
      "\u001b[0;31mKeyboardInterrupt\u001b[0m                         Traceback (most recent call last)",
      "Cell \u001b[0;32mIn[68], line 2\u001b[0m\n\u001b[1;32m      1\u001b[0m \u001b[38;5;66;03m# Save force (derivative of solution) to csv file\u001b[39;00m\n\u001b[0;32m----> 2\u001b[0m \u001b[38;5;28;01mimport\u001b[39;00m\u001b[38;5;250m \u001b[39m\u001b[38;5;21;01mcsv\u001b[39;00m\n\u001b[1;32m      3\u001b[0m \u001b[38;5;28;01mimport\u001b[39;00m\u001b[38;5;250m \u001b[39m\u001b[38;5;21;01mos\u001b[39;00m\n\u001b[1;32m      4\u001b[0m \u001b[38;5;28;01mimport\u001b[39;00m\u001b[38;5;250m \u001b[39m\u001b[38;5;21;01mgmsh\u001b[39;00m\n",
      "Cell \u001b[0;32mIn[68], line 2\u001b[0m\n\u001b[1;32m      1\u001b[0m \u001b[38;5;66;03m# Save force (derivative of solution) to csv file\u001b[39;00m\n\u001b[0;32m----> 2\u001b[0m \u001b[38;5;28;01mimport\u001b[39;00m\u001b[38;5;250m \u001b[39m\u001b[38;5;21;01mcsv\u001b[39;00m\n\u001b[1;32m      3\u001b[0m \u001b[38;5;28;01mimport\u001b[39;00m\u001b[38;5;250m \u001b[39m\u001b[38;5;21;01mos\u001b[39;00m\n\u001b[1;32m      4\u001b[0m \u001b[38;5;28;01mimport\u001b[39;00m\u001b[38;5;250m \u001b[39m\u001b[38;5;21;01mgmsh\u001b[39;00m\n",
      "File \u001b[0;32m_pydevd_bundle\\\\pydevd_cython.pyx:1697\u001b[0m, in \u001b[0;36m_pydevd_bundle.pydevd_cython.SafeCallWrapper.__call__\u001b[0;34m()\u001b[0m\n",
      "File \u001b[0;32m_pydevd_bundle\\\\pydevd_cython.pyx:634\u001b[0m, in \u001b[0;36m_pydevd_bundle.pydevd_cython.PyDBFrame.trace_dispatch\u001b[0;34m()\u001b[0m\n",
      "File \u001b[0;32m_pydevd_bundle\\\\pydevd_cython.pyx:1112\u001b[0m, in \u001b[0;36m_pydevd_bundle.pydevd_cython.PyDBFrame.trace_dispatch\u001b[0;34m()\u001b[0m\n",
      "File \u001b[0;32m_pydevd_bundle\\\\pydevd_cython.pyx:1090\u001b[0m, in \u001b[0;36m_pydevd_bundle.pydevd_cython.PyDBFrame.trace_dispatch\u001b[0;34m()\u001b[0m\n",
      "File \u001b[0;32m_pydevd_bundle\\\\pydevd_cython.pyx:494\u001b[0m, in \u001b[0;36m_pydevd_bundle.pydevd_cython.PyDBFrame.do_wait_suspend\u001b[0;34m()\u001b[0m\n",
      "File \u001b[0;32m~/anaconda3/envs/pacsproject/lib/python3.10/site-packages/debugpy/_vendored/pydevd/pydevd.py:2188\u001b[0m, in \u001b[0;36mPyDB.do_wait_suspend\u001b[0;34m(self, thread, frame, event, arg, exception_type)\u001b[0m\n\u001b[1;32m   2185\u001b[0m             from_this_thread\u001b[38;5;241m.\u001b[39mappend(frame_custom_thread_id)\n\u001b[1;32m   2187\u001b[0m     \u001b[38;5;28;01mwith\u001b[39;00m \u001b[38;5;28mself\u001b[39m\u001b[38;5;241m.\u001b[39m_threads_suspended_single_notification\u001b[38;5;241m.\u001b[39mnotify_thread_suspended(thread_id, thread, stop_reason):\n\u001b[0;32m-> 2188\u001b[0m         keep_suspended \u001b[38;5;241m=\u001b[39m \u001b[38;5;28;43mself\u001b[39;49m\u001b[38;5;241;43m.\u001b[39;49m\u001b[43m_do_wait_suspend\u001b[49m\u001b[43m(\u001b[49m\u001b[43mthread\u001b[49m\u001b[43m,\u001b[49m\u001b[43m \u001b[49m\u001b[43mframe\u001b[49m\u001b[43m,\u001b[49m\u001b[43m \u001b[49m\u001b[43mevent\u001b[49m\u001b[43m,\u001b[49m\u001b[43m \u001b[49m\u001b[43marg\u001b[49m\u001b[43m,\u001b[49m\u001b[43m \u001b[49m\u001b[43mtrace_suspend_type\u001b[49m\u001b[43m,\u001b[49m\u001b[43m \u001b[49m\u001b[43mfrom_this_thread\u001b[49m\u001b[43m,\u001b[49m\u001b[43m \u001b[49m\u001b[43mframes_tracker\u001b[49m\u001b[43m)\u001b[49m\n\u001b[1;32m   2190\u001b[0m frames_list \u001b[38;5;241m=\u001b[39m \u001b[38;5;28;01mNone\u001b[39;00m\n\u001b[1;32m   2192\u001b[0m \u001b[38;5;28;01mif\u001b[39;00m keep_suspended:\n\u001b[1;32m   2193\u001b[0m     \u001b[38;5;66;03m# This means that we should pause again after a set next statement.\u001b[39;00m\n",
      "File \u001b[0;32m~/anaconda3/envs/pacsproject/lib/python3.10/site-packages/debugpy/_vendored/pydevd/pydevd.py:2257\u001b[0m, in \u001b[0;36mPyDB._do_wait_suspend\u001b[0;34m(self, thread, frame, event, arg, trace_suspend_type, from_this_thread, frames_tracker)\u001b[0m\n\u001b[1;32m   2254\u001b[0m                 queue\u001b[38;5;241m.\u001b[39mput(internal_cmd)\n\u001b[1;32m   2255\u001b[0m                 wait_timeout \u001b[38;5;241m=\u001b[39m TIMEOUT_FAST\n\u001b[0;32m-> 2257\u001b[0m         \u001b[43mnotify_event\u001b[49m\u001b[38;5;241;43m.\u001b[39;49m\u001b[43mwait\u001b[49m\u001b[43m(\u001b[49m\u001b[43mwait_timeout\u001b[49m\u001b[43m)\u001b[49m\n\u001b[1;32m   2258\u001b[0m         notify_event\u001b[38;5;241m.\u001b[39mclear()\n\u001b[1;32m   2260\u001b[0m \u001b[38;5;28;01mfinally\u001b[39;00m:\n",
      "File \u001b[0;32m~/anaconda3/envs/pacsproject/lib/python3.10/threading.py:607\u001b[0m, in \u001b[0;36mEvent.wait\u001b[0;34m(self, timeout)\u001b[0m\n\u001b[1;32m    605\u001b[0m signaled \u001b[38;5;241m=\u001b[39m \u001b[38;5;28mself\u001b[39m\u001b[38;5;241m.\u001b[39m_flag\n\u001b[1;32m    606\u001b[0m \u001b[38;5;28;01mif\u001b[39;00m \u001b[38;5;129;01mnot\u001b[39;00m signaled:\n\u001b[0;32m--> 607\u001b[0m     signaled \u001b[38;5;241m=\u001b[39m \u001b[38;5;28;43mself\u001b[39;49m\u001b[38;5;241;43m.\u001b[39;49m\u001b[43m_cond\u001b[49m\u001b[38;5;241;43m.\u001b[39;49m\u001b[43mwait\u001b[49m\u001b[43m(\u001b[49m\u001b[43mtimeout\u001b[49m\u001b[43m)\u001b[49m\n\u001b[1;32m    608\u001b[0m \u001b[38;5;28;01mreturn\u001b[39;00m signaled\n",
      "File \u001b[0;32m~/anaconda3/envs/pacsproject/lib/python3.10/threading.py:324\u001b[0m, in \u001b[0;36mCondition.wait\u001b[0;34m(self, timeout)\u001b[0m\n\u001b[1;32m    322\u001b[0m \u001b[38;5;28;01melse\u001b[39;00m:\n\u001b[1;32m    323\u001b[0m     \u001b[38;5;28;01mif\u001b[39;00m timeout \u001b[38;5;241m>\u001b[39m \u001b[38;5;241m0\u001b[39m:\n\u001b[0;32m--> 324\u001b[0m         gotit \u001b[38;5;241m=\u001b[39m \u001b[43mwaiter\u001b[49m\u001b[38;5;241;43m.\u001b[39;49m\u001b[43macquire\u001b[49m\u001b[43m(\u001b[49m\u001b[38;5;28;43;01mTrue\u001b[39;49;00m\u001b[43m,\u001b[49m\u001b[43m \u001b[49m\u001b[43mtimeout\u001b[49m\u001b[43m)\u001b[49m\n\u001b[1;32m    325\u001b[0m     \u001b[38;5;28;01melse\u001b[39;00m:\n\u001b[1;32m    326\u001b[0m         gotit \u001b[38;5;241m=\u001b[39m waiter\u001b[38;5;241m.\u001b[39macquire(\u001b[38;5;28;01mFalse\u001b[39;00m)\n",
      "\u001b[0;31mKeyboardInterrupt\u001b[0m: "
     ]
    }
   ],
   "source": [
    "# Save force (derivative of solution) to csv file\n",
    "import csv\n",
    "import os\n",
    "import gmsh\n",
    "import numpy as np\n",
    "\n",
    "filename = \"force.csv\"\n",
    "folder = \"results\"\n",
    "\n",
    "#create a CSV file\n",
    "os.makedirs(folder, exist_ok=True)\n",
    "filepath = os.path.join(folder, filename)\n",
    "\n",
    "# Define the column headers\n",
    "headers = ['x', 'y', 'z', 'Fx', 'Fy', 'Fz']\n",
    "# Write the headers to the CSV file\n",
    "with open(filepath, mode='w', newline='') as file:\n",
    "    writer = csv.writer(file)\n",
    "    writer.writerow(headers)\n",
    "\n",
    "# Ensure Gmsh is initialized\n",
    "if not gmsh.isInitialized():\n",
    "    gmsh.initialize()\n",
    "\n",
    "segment_tag = 15 # tag of the segment where we want to save the force\n",
    "\n",
    "facet_indices = np.where(facet_tags.values == segment_tag)[0]\n",
    "facets = facet_tags.indices[facet_indices]\n",
    "domain.topology.create_connectivity(domain.topology.dim - 1, 0)\n",
    "f_to_v = domain.topology.connectivity(domain.topology.dim - 1, 0)\n",
    "coords = domain.geometry.x\n",
    "segment_coords = []\n",
    "\n",
    "for facet in facets:\n",
    "    vertex_indices = f_to_v.links(facet)\n",
    "    vertex_coords = coords[vertex_indices]\n",
    "    segment_coords.append(vertex_coords)\n",
    "\n",
    "seen = set()  # This will store unique points as tuples\n",
    "flattened_coords = []  # This will store the unique points in flattened form\n",
    "\n",
    "for coord_set in segment_coords:\n",
    "    for point in coord_set:\n",
    "        point = np.array(point)\n",
    "        flattened_coords.append(point)  # Add to the flattened list\n",
    "segment_coords = np.array(flattened_coords, dtype=np.float64)\n",
    "\n",
    "#remove duplicates\n",
    "\n",
    "from dolfinx.fem import Function\n",
    "from ufl.finiteelement import VectorElement\n",
    "from dolfinx.fem import functionspace\n",
    "element = VectorElement(\"Lagrange\", domain.ufl_cell(), 1)\n",
    "V_grad = functionspace(domain, element)\n",
    "grad_uh_expr = fem.Expression(ufl.grad(uh), V_grad.element.interpolation_points())\n",
    "grad_uh = fem.Function(V_grad)\n",
    "grad_uh.interpolate(grad_uh_expr)\n",
    "\n",
    "from dolfinx.geometry import BoundingBoxTree, compute_collisions_points, compute_colliding_cells\n",
    "\n",
    "# Build a bounding box tree for fast point location\n",
    "tree = BoundingBoxTree(domain, domain.topology.dim)\n",
    "\n",
    "# Find cells containing the points\n",
    "collisions = compute_collisions_points(tree, segment_coords)\n",
    "cells = compute_colliding_cells(domain, collisions)\n",
    "\n",
    "# Evaluate gradient in each cell (will be nan if point is outside the domain)\n",
    "values = np.zeros((segment_coords.shape[0], domain.geometry.dim), dtype=np.float64)\n",
    "for i, (pt, cell) in enumerate(zip(segment_coords, cells)):\n",
    "    if cell >= 0:\n",
    "        values[i] = grad_uh.eval(pt, cell)\n",
    "    else:\n",
    "        values[i] = np.nan  # point is outside the domain\n",
    "\n",
    "\n",
    "from force_getter import save_force_on_segment\n",
    "save_force_on_segment(segment_coords, values, filename, folder)"
   ]
  },
  {
   "cell_type": "code",
   "execution_count": 55,
   "id": "c1e6f600",
   "metadata": {},
   "outputs": [
    {
     "name": "stdout",
     "output_type": "stream",
     "text": [
      "[[-1.6375 -0.5     0.    ]\n",
      " [-1.575  -0.5     0.    ]\n",
      " [-1.6375 -0.5     0.    ]\n",
      " [-1.7    -0.5     0.    ]\n",
      " [-1.575  -0.5     0.    ]\n",
      " [-1.5125 -0.5     0.    ]\n",
      " [-1.7    -0.5     0.    ]\n",
      " [-1.7625 -0.5     0.    ]\n",
      " [-1.5125 -0.5     0.    ]\n",
      " [-1.45   -0.5     0.    ]\n",
      " [-1.45   -0.5     0.    ]\n",
      " [-1.3875 -0.5     0.    ]\n",
      " [-1.7625 -0.5     0.    ]\n",
      " [-1.825  -0.5     0.    ]\n",
      " [-1.825  -0.5     0.    ]\n",
      " [-1.8875 -0.5     0.    ]\n",
      " [-1.3875 -0.5     0.    ]\n",
      " [-1.325  -0.5     0.    ]\n",
      " [-1.325  -0.5     0.    ]\n",
      " [-1.2625 -0.5     0.    ]\n",
      " [-1.8875 -0.5     0.    ]\n",
      " [-1.95   -0.5     0.    ]\n",
      " [-1.95   -0.5     0.    ]\n",
      " [-2.0125 -0.5     0.    ]\n",
      " [-1.2625 -0.5     0.    ]\n",
      " [-1.2    -0.5     0.    ]\n",
      " [-2.0125 -0.5     0.    ]\n",
      " [-2.075  -0.5     0.    ]\n",
      " [-2.075  -0.5     0.    ]\n",
      " [-2.1375 -0.5     0.    ]\n",
      " [-2.1375 -0.5     0.    ]\n",
      " [-2.2    -0.5     0.    ]]\n"
     ]
    }
   ],
   "source": [
    "print(segment_coords)"
   ]
  },
  {
   "cell_type": "code",
   "execution_count": 25,
   "id": "5dcc95f7",
   "metadata": {},
   "outputs": [
    {
     "name": "stdout",
     "output_type": "stream",
     "text": [
      "trame\n"
     ]
    },
    {
     "data": {
      "application/vnd.jupyter.widget-view+json": {
       "model_id": "1d0b4d3efcfe402c8b079d11784f0056",
       "version_major": 2,
       "version_minor": 0
      },
      "text/plain": [
       "Widget(value='<iframe src=\"http://localhost:34645/index.html?ui=P_0x7f6a90e9bc40_9&reconnect=auto\" class=\"pyvi…"
      ]
     },
     "metadata": {},
     "output_type": "display_data"
    }
   ],
   "source": [
    "# plot the mesh \n",
    "import pyvista\n",
    "pyvista.OFF_SCREEN = False\n",
    "print(pyvista.global_theme.jupyter_backend)\n",
    "\n",
    "from dolfinx import plot\n",
    "pyvista.start_xvfb()\n",
    "domain.topology.create_connectivity(tdim, tdim)\n",
    "topology, cell_types, geometry = plot.vtk_mesh(domain, tdim)\n",
    "grid = pyvista.UnstructuredGrid(topology, cell_types, geometry)\n",
    "\n",
    "plotter = pyvista.Plotter()\n",
    "plotter.add_mesh(grid, show_edges=False)\n",
    "plotter.view_xy()\n",
    "if not pyvista.OFF_SCREEN:\n",
    "    plotter.show()\n",
    "else:\n",
    "    figure = plotter.screenshot(\"fundamentals_mesh.png\")\n"
   ]
  },
  {
   "cell_type": "code",
   "execution_count": 26,
   "id": "eb9fd6f1",
   "metadata": {},
   "outputs": [
    {
     "data": {
      "application/vnd.jupyter.widget-view+json": {
       "model_id": "760f13468a874d868eefe2b5e02b1c4c",
       "version_major": 2,
       "version_minor": 0
      },
      "text/plain": [
       "Widget(value='<iframe src=\"http://localhost:34645/index.html?ui=P_0x7f6a90e9a650_10&reconnect=auto\" class=\"pyv…"
      ]
     },
     "metadata": {},
     "output_type": "display_data"
    }
   ],
   "source": [
    "# plot the solution\n",
    "u_topology, u_cell_types, u_geometry = plot.vtk_mesh(V)\n",
    "u_grid = pyvista.UnstructuredGrid(u_topology, u_cell_types, u_geometry)\n",
    "u_grid.point_data[\"u\"] = uh.x.array.real\n",
    "u_grid.set_active_scalars(\"u\")\n",
    "u_plotter = pyvista.Plotter()\n",
    "u_plotter.add_mesh(u_grid, show_edges=False, cmap=\"bwr\")\n",
    "u_plotter.view_xy()\n",
    "if not pyvista.OFF_SCREEN:\n",
    "    u_plotter.show()"
   ]
  },
  {
   "cell_type": "code",
   "execution_count": 27,
   "id": "0641245c",
   "metadata": {},
   "outputs": [
    {
     "data": {
      "application/vnd.jupyter.widget-view+json": {
       "model_id": "b1512828e2db4e0ca64f793df998862c",
       "version_major": 2,
       "version_minor": 0
      },
      "text/plain": [
       "Widget(value='<iframe src=\"http://localhost:34645/index.html?ui=P_0x7f6a90e98490_11&reconnect=auto\" class=\"pyv…"
      ]
     },
     "metadata": {},
     "output_type": "display_data"
    }
   ],
   "source": [
    "warped = u_grid.warp_by_scalar()\n",
    "plotter2 = pyvista.Plotter()\n",
    "plotter2.add_mesh(warped, show_edges=False, show_scalar_bar=True, cmap=\"coolwarm\")\n",
    "if not pyvista.OFF_SCREEN:\n",
    "    plotter2.show()"
   ]
  },
  {
   "cell_type": "code",
   "execution_count": 28,
   "id": "fa1fe0a9",
   "metadata": {},
   "outputs": [],
   "source": [
    "from dolfinx import io\n",
    "from pathlib import Path\n",
    "results_folder = Path(\"results\")\n",
    "results_folder.mkdir(exist_ok=True, parents=True)\n",
    "filename = results_folder / \"fundamentals\"\n",
    "\"\"\" with io.VTXWriter(domain.comm, filename.with_suffix(\".bp\"), [uh]) as vtx:\n",
    "    vtx.write(0.0) \"\"\"\n",
    "with io.VTKFile(domain.comm, filename.with_suffix(\".pvd\"), \"w\") as vtk:\n",
    "    vtk.write_mesh(domain)\n",
    "    vtk.write_function(uh)\n",
    "with io.XDMFFile(domain.comm, filename.with_suffix(\".xdmf\"), \"w\") as xdmf:\n",
    "    xdmf.write_mesh(domain)\n",
    "    xdmf.write_function(uh)"
   ]
  }
 ],
 "metadata": {
  "kernelspec": {
   "display_name": "pacsproject",
   "language": "python",
   "name": "python3"
  },
  "language_info": {
   "codemirror_mode": {
    "name": "ipython",
    "version": 3
   },
   "file_extension": ".py",
   "mimetype": "text/x-python",
   "name": "python",
   "nbconvert_exporter": "python",
   "pygments_lexer": "ipython3",
   "version": "3.10.17"
  }
 },
 "nbformat": 4,
 "nbformat_minor": 5
}
