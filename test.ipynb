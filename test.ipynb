{
 "cells": [
  {
   "cell_type": "code",
   "execution_count": 23,
   "id": "98b3f3da",
   "metadata": {},
   "outputs": [
    {
     "name": "stdout",
     "output_type": "stream",
     "text": [
      "Info    : Reading 'capacitor.msh'...\n",
      "Info    : 19 entities\n",
      "Info    : 326943 nodes\n",
      "Info    : 653897 elements                                                                                     \n",
      "Info    : Done reading 'capacitor.msh'                                                                           \n"
     ]
    }
   ],
   "source": [
    "# read a mesh from file capacitor.msh\n",
    "from mpi4py import MPI\n",
    "from dolfinx.io import gmshio\n",
    "domain, cell_tags, facet_tags = gmshio.read_from_msh(\"capacitor.msh\", MPI.COMM_WORLD, 0, gdim=2)"
   ]
  },
  {
   "cell_type": "code",
   "execution_count": 24,
   "id": "de863ae1",
   "metadata": {},
   "outputs": [],
   "source": [
    "# define finite element function space\n",
    "from dolfinx.fem import functionspace\n",
    "V = functionspace(domain, (\"Lagrange\", 1))\n",
    "\n",
    "# identify the boundary (create facet to cell connectivity required to determine boundary facets)\n",
    "from dolfinx import default_scalar_type\n",
    "from dolfinx.fem import (Constant, dirichletbc, locate_dofs_topological)\n",
    "from dolfinx.fem.petsc import LinearProblem\n",
    "tdim = domain.topology.dim\n",
    "fdim = tdim - 1\n",
    "domain.topology.create_connectivity(fdim, tdim)\n",
    "\n",
    "# Find facets marked with 2 and 3 (the two rectangles)\n",
    "facets_rect1 = facet_tags.find(11)\n",
    "facets_rect2 = facet_tags.find(12)\n",
    "\n",
    "# Locate degrees of freedom\n",
    "dofs_rect1 = locate_dofs_topological(V, fdim, facets_rect1)\n",
    "dofs_rect2 = locate_dofs_topological(V, fdim, facets_rect2)\n",
    "\n",
    "# Define different Dirichlet values\n",
    "u_rect1 = Constant(domain, 0.0)\n",
    "u_rect2 = Constant(domain, 2.0)\n",
    "\n",
    "# Create BCs\n",
    "bc1 = dirichletbc(u_rect1, dofs_rect1, V)\n",
    "bc2 = dirichletbc(u_rect2, dofs_rect2, V)\n",
    "\n",
    "bcs = [bc1, bc2]\n",
    "\n",
    "# trial and test functions\n",
    "import ufl\n",
    "u = ufl.TrialFunction(V)\n",
    "v = ufl.TestFunction(V)\n",
    "\n",
    "# source term\n",
    "from dolfinx import default_scalar_type\n",
    "from dolfinx import fem\n",
    "f = fem.Constant(domain, default_scalar_type(-3.0))\n",
    "\n",
    "# variational problem\n",
    "a = ufl.dot(ufl.grad(u), ufl.grad(v)) * ufl.dx\n",
    "L = f * v * ufl.dx\n",
    "\n",
    "# assemble the system\n",
    "from dolfinx.fem.petsc import LinearProblem\n",
    "problem = LinearProblem(a, L, bcs=bcs, petsc_options={\"ksp_type\": \"preonly\", \"pc_type\": \"lu\"})\n",
    "uh = problem.solve()"
   ]
  },
  {
   "cell_type": "code",
   "execution_count": 25,
   "id": "5dcc95f7",
   "metadata": {},
   "outputs": [
    {
     "name": "stdout",
     "output_type": "stream",
     "text": [
      "trame\n"
     ]
    },
    {
     "data": {
      "application/vnd.jupyter.widget-view+json": {
       "model_id": "1d0b4d3efcfe402c8b079d11784f0056",
       "version_major": 2,
       "version_minor": 0
      },
      "text/plain": [
       "Widget(value='<iframe src=\"http://localhost:34645/index.html?ui=P_0x7f6a90e9bc40_9&reconnect=auto\" class=\"pyvi…"
      ]
     },
     "metadata": {},
     "output_type": "display_data"
    }
   ],
   "source": [
    "# plot the mesh \n",
    "import pyvista\n",
    "pyvista.OFF_SCREEN = False\n",
    "print(pyvista.global_theme.jupyter_backend)\n",
    "\n",
    "from dolfinx import plot\n",
    "pyvista.start_xvfb()\n",
    "domain.topology.create_connectivity(tdim, tdim)\n",
    "topology, cell_types, geometry = plot.vtk_mesh(domain, tdim)\n",
    "grid = pyvista.UnstructuredGrid(topology, cell_types, geometry)\n",
    "\n",
    "plotter = pyvista.Plotter()\n",
    "plotter.add_mesh(grid, show_edges=False)\n",
    "plotter.view_xy()\n",
    "if not pyvista.OFF_SCREEN:\n",
    "    plotter.show()\n",
    "else:\n",
    "    figure = plotter.screenshot(\"fundamentals_mesh.png\")\n"
   ]
  },
  {
   "cell_type": "code",
   "execution_count": 26,
   "id": "eb9fd6f1",
   "metadata": {},
   "outputs": [
    {
     "data": {
      "application/vnd.jupyter.widget-view+json": {
       "model_id": "760f13468a874d868eefe2b5e02b1c4c",
       "version_major": 2,
       "version_minor": 0
      },
      "text/plain": [
       "Widget(value='<iframe src=\"http://localhost:34645/index.html?ui=P_0x7f6a90e9a650_10&reconnect=auto\" class=\"pyv…"
      ]
     },
     "metadata": {},
     "output_type": "display_data"
    }
   ],
   "source": [
    "# plot the solution\n",
    "u_topology, u_cell_types, u_geometry = plot.vtk_mesh(V)\n",
    "u_grid = pyvista.UnstructuredGrid(u_topology, u_cell_types, u_geometry)\n",
    "u_grid.point_data[\"u\"] = uh.x.array.real\n",
    "u_grid.set_active_scalars(\"u\")\n",
    "u_plotter = pyvista.Plotter()\n",
    "u_plotter.add_mesh(u_grid, show_edges=False, cmap=\"bwr\")\n",
    "u_plotter.view_xy()\n",
    "if not pyvista.OFF_SCREEN:\n",
    "    u_plotter.show()"
   ]
  },
  {
   "cell_type": "code",
   "execution_count": 27,
   "id": "0641245c",
   "metadata": {},
   "outputs": [
    {
     "data": {
      "application/vnd.jupyter.widget-view+json": {
       "model_id": "b1512828e2db4e0ca64f793df998862c",
       "version_major": 2,
       "version_minor": 0
      },
      "text/plain": [
       "Widget(value='<iframe src=\"http://localhost:34645/index.html?ui=P_0x7f6a90e98490_11&reconnect=auto\" class=\"pyv…"
      ]
     },
     "metadata": {},
     "output_type": "display_data"
    }
   ],
   "source": [
    "warped = u_grid.warp_by_scalar()\n",
    "plotter2 = pyvista.Plotter()\n",
    "plotter2.add_mesh(warped, show_edges=False, show_scalar_bar=True, cmap=\"coolwarm\")\n",
    "if not pyvista.OFF_SCREEN:\n",
    "    plotter2.show()"
   ]
  },
  {
   "cell_type": "code",
   "execution_count": 28,
   "id": "fa1fe0a9",
   "metadata": {},
   "outputs": [],
   "source": [
    "from dolfinx import io\n",
    "from pathlib import Path\n",
    "results_folder = Path(\"results\")\n",
    "results_folder.mkdir(exist_ok=True, parents=True)\n",
    "filename = results_folder / \"fundamentals\"\n",
    "\"\"\" with io.VTXWriter(domain.comm, filename.with_suffix(\".bp\"), [uh]) as vtx:\n",
    "    vtx.write(0.0) \"\"\"\n",
    "with io.VTKFile(domain.comm, filename.with_suffix(\".pvd\"), \"w\") as vtk:\n",
    "    vtk.write_mesh(domain)\n",
    "    vtk.write_function(uh)\n",
    "with io.XDMFFile(domain.comm, filename.with_suffix(\".xdmf\"), \"w\") as xdmf:\n",
    "    xdmf.write_mesh(domain)\n",
    "    xdmf.write_function(uh)"
   ]
  }
 ],
 "metadata": {
  "kernelspec": {
   "display_name": "pacsproject",
   "language": "python",
   "name": "python3"
  },
  "language_info": {
   "codemirror_mode": {
    "name": "ipython",
    "version": 3
   },
   "file_extension": ".py",
   "mimetype": "text/x-python",
   "name": "python",
   "nbconvert_exporter": "python",
   "pygments_lexer": "ipython3",
   "version": "3.10.17"
  }
 },
 "nbformat": 4,
 "nbformat_minor": 5
}
