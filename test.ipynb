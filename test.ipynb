{
 "cells": [
  {
   "cell_type": "code",
   "execution_count": 13,
   "id": "98b3f3da",
   "metadata": {},
   "outputs": [],
   "source": [
    "# Generate a mesh using dolfinx\n",
    "\n",
    "from mpi4py import MPI\n",
    "from dolfinx import mesh\n",
    "points = [(0.0, 0.0), (3.0, 1.0)]\n",
    "# Define the number of cells in the x and y directions\n",
    "n = (30,10)\n",
    "# Create the mesh\n",
    "domain = mesh.create_rectangle(MPI.COMM_WORLD, points, n, cell_type=mesh.CellType.triangle)\n",
    "\n",
    "# define finite element function space\n",
    "from dolfinx.fem import functionspace\n",
    "V = functionspace(domain, (\"Lagrange\", 1))\n",
    "\n",
    "# identify the boundary (create facet to cell connectivity required to determine boundary facets)\n",
    "tdim = domain.topology.dim\n",
    "fdim = tdim - 1\n",
    "domain.topology.create_connectivity(fdim, tdim)\n",
    "boundary_facets = mesh.exterior_facet_indices(domain.topology)\n",
    "\n",
    "# create a mesh function to mark the boundary facets\n",
    "import numpy as np\n",
    "from dolfinx import default_scalar_type\n",
    "from dolfinx.fem import (Function, dirichletbc, locate_dofs_geometrical)\n",
    "from dolfinx.fem.petsc import LinearProblem\n",
    "\n",
    "def u_exact(x):\n",
    "    return x[1]\n",
    "\n",
    "def boundary_D(x):\n",
    "    return np.logical_or(np.isclose(x[1], 0), np.isclose(x[1], 1))\n",
    "\n",
    "dofs_D = locate_dofs_geometrical(V, boundary_D)\n",
    "\n",
    "# boundary conditions\n",
    "u_bc = Function(V)\n",
    "u_bc.interpolate(u_exact)\n",
    "bc = dirichletbc(u_bc, dofs_D)\n",
    "\n",
    "# trial and test functions\n",
    "import ufl\n",
    "u = ufl.TrialFunction(V)\n",
    "v = ufl.TestFunction(V)\n",
    "\n",
    "# source term\n",
    "from dolfinx import default_scalar_type\n",
    "from dolfinx import fem\n",
    "f = fem.Constant(domain, default_scalar_type(0))\n",
    "\n",
    "# variational problem\n",
    "a = ufl.dot(ufl.grad(u), ufl.grad(v)) * ufl.dx\n",
    "L = f * v * ufl.dx\n",
    "\n",
    "# assemble the system\n",
    "from dolfinx.fem.petsc import LinearProblem\n",
    "problem = LinearProblem(a, L, bcs=[bc], petsc_options={\"ksp_type\": \"preonly\", \"pc_type\": \"lu\"})\n",
    "uh = problem.solve()"
   ]
  },
  {
   "cell_type": "code",
   "execution_count": 14,
   "id": "5dcc95f7",
   "metadata": {},
   "outputs": [
    {
     "name": "stdout",
     "output_type": "stream",
     "text": [
      "trame\n"
     ]
    },
    {
     "data": {
      "application/vnd.jupyter.widget-view+json": {
       "model_id": "9f80112cbfee4068af238c86333acaff",
       "version_major": 2,
       "version_minor": 0
      },
      "text/plain": [
       "Widget(value='<iframe src=\"http://localhost:33717/index.html?ui=P_0x7fbb28bb5c30_8&reconnect=auto\" class=\"pyvi…"
      ]
     },
     "metadata": {},
     "output_type": "display_data"
    }
   ],
   "source": [
    "# plot the solution\n",
    "import pyvista\n",
    "pyvista.OFF_SCREEN = False\n",
    "print(pyvista.global_theme.jupyter_backend)\n",
    "\n",
    "from dolfinx import plot\n",
    "pyvista.start_xvfb()\n",
    "domain.topology.create_connectivity(tdim, tdim)\n",
    "topology, cell_types, geometry = plot.vtk_mesh(domain, tdim)\n",
    "grid = pyvista.UnstructuredGrid(topology, cell_types, geometry)\n",
    "\n",
    "plotter = pyvista.Plotter()\n",
    "plotter.add_mesh(grid, show_edges=True)\n",
    "plotter.view_xy()\n",
    "if not pyvista.OFF_SCREEN:\n",
    "    plotter.show()\n",
    "else:\n",
    "    figure = plotter.screenshot(\"fundamentals_mesh.png\")\n"
   ]
  },
  {
   "cell_type": "code",
   "execution_count": 15,
   "id": "eb9fd6f1",
   "metadata": {},
   "outputs": [
    {
     "data": {
      "application/vnd.jupyter.widget-view+json": {
       "model_id": "a0dd511c9f8443689e7ed9d520a5d0bc",
       "version_major": 2,
       "version_minor": 0
      },
      "text/plain": [
       "Widget(value='<iframe src=\"http://localhost:33717/index.html?ui=P_0x7fbaa5eb9e70_9&reconnect=auto\" class=\"pyvi…"
      ]
     },
     "metadata": {},
     "output_type": "display_data"
    }
   ],
   "source": [
    "u_topology, u_cell_types, u_geometry = plot.vtk_mesh(V)\n",
    "\n",
    "u_grid = pyvista.UnstructuredGrid(u_topology, u_cell_types, u_geometry)\n",
    "u_grid.point_data[\"u\"] = uh.x.array.real\n",
    "u_grid.set_active_scalars(\"u\")\n",
    "u_plotter = pyvista.Plotter()\n",
    "u_plotter.add_mesh(u_grid, show_edges=True)\n",
    "u_plotter.view_xy()\n",
    "if not pyvista.OFF_SCREEN:\n",
    "    u_plotter.show()"
   ]
  },
  {
   "cell_type": "code",
   "execution_count": 16,
   "id": "0641245c",
   "metadata": {},
   "outputs": [
    {
     "data": {
      "application/vnd.jupyter.widget-view+json": {
       "model_id": "b6ee95a5046b42f78bf46e5188db10ad",
       "version_major": 2,
       "version_minor": 0
      },
      "text/plain": [
       "Widget(value='<iframe src=\"http://localhost:33717/index.html?ui=P_0x7fbb537e31c0_10&reconnect=auto\" class=\"pyv…"
      ]
     },
     "metadata": {},
     "output_type": "display_data"
    }
   ],
   "source": [
    "warped = u_grid.warp_by_scalar()\n",
    "plotter2 = pyvista.Plotter()\n",
    "plotter2.add_mesh(warped, show_edges=True, show_scalar_bar=True)\n",
    "if not pyvista.OFF_SCREEN:\n",
    "    plotter2.show()"
   ]
  },
  {
   "cell_type": "code",
   "execution_count": 17,
   "id": "5166092a",
   "metadata": {},
   "outputs": [
    {
     "data": {
      "application/vnd.jupyter.widget-view+json": {
       "model_id": "763633c4be1b4ea4b6a8b750e02760c9",
       "version_major": 2,
       "version_minor": 0
      },
      "text/plain": [
       "Widget(value='<iframe src=\"http://localhost:33717/index.html?ui=P_0x7fba4de6b6a0_11&reconnect=auto\" class=\"pyv…"
      ]
     },
     "metadata": {},
     "output_type": "display_data"
    }
   ],
   "source": [
    "warped = u_grid.warp_by_scalar()\n",
    "plotter2 = pyvista.Plotter()\n",
    "plotter2.add_mesh(warped, show_edges=True, show_scalar_bar=True)\n",
    "if not pyvista.OFF_SCREEN:\n",
    "    plotter2.show()\n"
   ]
  },
  {
   "cell_type": "code",
   "execution_count": 18,
   "id": "fa1fe0a9",
   "metadata": {},
   "outputs": [],
   "source": [
    "from dolfinx import io\n",
    "from pathlib import Path\n",
    "results_folder = Path(\"results\")\n",
    "results_folder.mkdir(exist_ok=True, parents=True)\n",
    "filename = results_folder / \"fundamentals\"\n",
    "with io.VTXWriter(domain.comm, filename.with_suffix(\".bp\"), [uh]) as vtx:\n",
    "    vtx.write(0.0)\n",
    "with io.XDMFFile(domain.comm, filename.with_suffix(\".xdmf\"), \"w\") as xdmf:\n",
    "    xdmf.write_mesh(domain)\n",
    "    xdmf.write_function(uh)"
   ]
  }
 ],
 "metadata": {
  "kernelspec": {
   "display_name": "pacs",
   "language": "python",
   "name": "python3"
  },
  "language_info": {
   "codemirror_mode": {
    "name": "ipython",
    "version": 3
   },
   "file_extension": ".py",
   "mimetype": "text/x-python",
   "name": "python",
   "nbconvert_exporter": "python",
   "pygments_lexer": "ipython3",
   "version": "3.10.13"
  }
 },
 "nbformat": 4,
 "nbformat_minor": 5
}
