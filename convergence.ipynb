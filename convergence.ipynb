{
 "cells": [
  {
   "cell_type": "code",
   "execution_count": null,
   "id": "98b3f3da",
   "metadata": {},
   "outputs": [
    {
     "name": "stdout",
     "output_type": "stream",
     "text": [
      "Info    : Reading 'convergence/geometry05.msh'...\n",
      "Info    : 26 entities\n",
      "Info    : 3275 nodes\n",
      "Info    : 6552 elements\n",
      "Info    : Done reading 'convergence/geometry05.msh'\n"
     ]
    },
    {
     "data": {
      "image/png": "[encoded data removed]",
      "text/plain": [
       "<Figure size 640x480 with 1 Axes>"
      ]
     },
     "metadata": {},
     "output_type": "display_data"
    }
   ],
   "source": [
    "# LAPLACE EQUATION WITH DIRICHLET BOUNDARY CONDITIONS\n",
    "\n",
    "# read a mesh from file capacitor.msh\n",
    "from mpi4py import MPI\n",
    "from dolfinx.io import gmshio\n",
    "domain, cell_tags, facet_tags = gmshio.read_from_msh(\"convergence/geometry04.msh\", MPI.COMM_WORLD, 0, gdim=2)\n",
    "\n",
    "\n",
    "# define finite element function space\n",
    "from dolfinx.fem import functionspace\n",
    "import numpy as np\n",
    "V = functionspace(domain, (\"Lagrange\", 1))\n",
    "\n",
    "# identify the boundary (create facet to cell connectivity required to determine boundary facets)\n",
    "from dolfinx import default_scalar_type\n",
    "from dolfinx.fem import (Constant, dirichletbc, locate_dofs_topological)\n",
    "from dolfinx.fem.petsc import LinearProblem\n",
    "tdim = domain.topology.dim\n",
    "fdim = tdim - 1\n",
    "domain.topology.create_connectivity(fdim, tdim)\n",
    "\n",
    "# Find facets marked with 2 and 3 (the two rectangles)\n",
    "facets_rect1 = np.concatenate([facet_tags.find(10), facet_tags.find(11)])\n",
    "facets_rect2 = facet_tags.find(12)\n",
    "\n",
    "# Locate degrees of freedom\n",
    "dofs_rect1 = locate_dofs_topological(V, fdim, facets_rect1)\n",
    "dofs_rect2 = locate_dofs_topological(V, fdim, facets_rect2)\n",
    "\n",
    "# Define different Dirichlet values\n",
    "u_rect1 = Constant(domain, 0.0)\n",
    "u_rect2 = Constant(domain, 1.0)\n",
    "\n",
    "# Create BCs\n",
    "bc1 = dirichletbc(u_rect1, dofs_rect1, V)\n",
    "bc2 = dirichletbc(u_rect2, dofs_rect2, V)\n",
    "\n",
    "bcs = [bc1, bc2]\n",
    "\n",
    "# trial and test functions\n",
    "import ufl\n",
    "u = ufl.TrialFunction(V)\n",
    "v = ufl.TestFunction(V)\n",
    "\n",
    "# source term\n",
    "from dolfinx import default_scalar_type\n",
    "from dolfinx import fem\n",
    "f = fem.Constant(domain, default_scalar_type(0.0))\n",
    "\n",
    "# variational problem\n",
    "a = ufl.dot(ufl.grad(u), ufl.grad(v)) * ufl.dx\n",
    "L = f * v * ufl.dx\n",
    "\n",
    "# assemble the system\n",
    "from dolfinx.fem.petsc import LinearProblem\n",
    "problem = LinearProblem(a, L, bcs=bcs, petsc_options={\"ksp_type\": \"preonly\", \"pc_type\": \"lu\"})\n",
    "uh = problem.solve()\n",
    "\n",
    "\n",
    "\n",
    "# APPROXIMATION OF THE GRADIENT OF THE SOLUTION\n",
    "\n",
    "import ufl\n",
    "\n",
    "# Define the vector function space for the gradient\n",
    "V_vec = fem.functionspace(domain, (\"Lagrange\", 1, (domain.geometry.dim, )))\n",
    "\n",
    "# Define the trial and test functions for the vector space\n",
    "u_vec = ufl.TrialFunction(V_vec)\n",
    "v_vec = ufl.TestFunction(V_vec)\n",
    "\n",
    "# Define the gradient of the solution\n",
    "grad_u = ufl.grad(uh)\n",
    "\n",
    "# Define the bilinear and linear forms\n",
    "a_grad = ufl.inner(u_vec, v_vec) * ufl.dx\n",
    "L_grad = ufl.inner(grad_u, v_vec) * ufl.dx\n",
    "\n",
    "# Assemble the system\n",
    "from dolfinx.fem.petsc import LinearProblem\n",
    "problem_grad = LinearProblem(a_grad, L_grad, petsc_options={\"ksp_type\": \"preonly\", \"pc_type\": \"lu\"})\n",
    "grad_uh = problem_grad.solve()\n",
    "\n",
    "\n",
    "# PLOTTING THE GRADIENT OF THE SOLUTION ON THE UPPER PLATE\n",
    "\n",
    "# Step 1: Find facets with tag 10\n",
    "facets10 = facet_tags.find(10)\n",
    "dofs10 = locate_dofs_topological(V, fdim, facets10)\n",
    "\n",
    "# Step 2: Extract the x-coordinates and the y-coordinates of the DOFs\n",
    "x_dofs = V.tabulate_dof_coordinates()[dofs10]\n",
    "x_coords = x_dofs[:, 0]\n",
    "y_coords = x_dofs[:, 1]\n",
    "\n",
    "# Step 3: Evaluate grad_uh at those DOFs\n",
    "dim = domain.geometry.dim\n",
    "grad_x_uh_values = grad_uh.x.array[0::dim]\n",
    "grad_y_uh_values = grad_uh.x.array[1::dim]\n",
    "grad_x_uh_plate = grad_x_uh_values[dofs10]\n",
    "grad_y_uh_plate = grad_y_uh_values[dofs10]\n",
    "\n",
    "\n",
    "import matplotlib.pyplot as plt\n",
    "# Plot grad_y_uh_plate against x_coords\n",
    "\n",
    "# Sort x_coords and apply the same ordering to grad_y_uh_plate\n",
    "sorted_indices = np.argsort(x_coords)\n",
    "x_coords = x_coords[sorted_indices]\n",
    "grad_y_uh_plate = grad_y_uh_plate[sorted_indices]\n",
    "plt.plot(x_coords, grad_y_uh_plate, label=\"grad_y_uh_plate\", color=\"blue\", linestyle=\"-\")\n",
    "plt.xlim(-50, 50)\n",
    "plt.xlabel(\"x_coords\")\n",
    "plt.ylabel(\"grad_y_uh_plate\")\n",
    "plt.title(\"Plot of grad_y_uh_plate vs x_coords\")\n",
    "plt.legend()\n",
    "plt.grid(True)\n",
    "plt.show()\n"
   ]
  },
  {
   "cell_type": "code",
   "execution_count": 44,
   "id": "64b94590",
   "metadata": {},
   "outputs": [
    {
     "name": "stdout",
     "output_type": "stream",
     "text": [
      "trame\n"
     ]
    },
    {
     "data": {
      "application/vnd.jupyter.widget-view+json": {
       "model_id": "30eeacb55f4c41d7affab15fbd644b7b",
       "version_major": 2,
       "version_minor": 0
      },
      "text/plain": [
       "Widget(value='<iframe src=\"http://localhost:32963/index.html?ui=P_0x7fc2e392cb20_28&reconnect=auto\" class=\"pyv…"
      ]
     },
     "metadata": {},
     "output_type": "display_data"
    }
   ],
   "source": [
    "import pyvista\n",
    "pyvista.OFF_SCREEN = False\n",
    "print(pyvista.global_theme.jupyter_backend)\n",
    "\n",
    "from dolfinx import plot\n",
    "pyvista.start_xvfb()\n",
    "domain.topology.create_connectivity(tdim, tdim)\n",
    "\n",
    "# plot the solution\n",
    "u_topology, u_cell_types, u_geometry = plot.vtk_mesh(V)\n",
    "u_grid = pyvista.UnstructuredGrid(u_topology, u_cell_types, u_geometry)\n",
    "u_grid.point_data[\"u\"] = uh.x.array.real\n",
    "u_grid.set_active_scalars(\"u\")\n",
    "u_plotter = pyvista.Plotter()\n",
    "u_plotter.add_mesh(u_grid, show_edges=False, cmap=\"bwr\")\n",
    "u_plotter.view_xy()\n",
    "if not pyvista.OFF_SCREEN:\n",
    "    u_plotter.show()"
   ]
  },
  {
   "cell_type": "code",
   "execution_count": 45,
   "id": "a1f551a5",
   "metadata": {},
   "outputs": [
    {
     "data": {
      "application/vnd.jupyter.widget-view+json": {
       "model_id": "8cea774bc0ef4e33a1351c39e545f8fa",
       "version_major": 2,
       "version_minor": 0
      },
      "text/plain": [
       "Widget(value='<iframe src=\"http://localhost:32963/index.html?ui=P_0x7fc2d8cae770_29&reconnect=auto\" class=\"pyv…"
      ]
     },
     "metadata": {},
     "output_type": "display_data"
    }
   ],
   "source": [
    "# plot the x component of the gradient\n",
    "u_topology, u_cell_types, u_geometry = plot.vtk_mesh(V)\n",
    "u_grid = pyvista.UnstructuredGrid(u_topology, u_cell_types, u_geometry)\n",
    "u_grid.point_data[\"u\"] = grad_x_uh_values.real\n",
    "u_grid.set_active_scalars(\"u\")\n",
    "u_plotter = pyvista.Plotter()\n",
    "u_plotter.add_mesh(u_grid, show_edges=False, cmap=\"bwr\")\n",
    "u_plotter.view_xy()\n",
    "if not pyvista.OFF_SCREEN:\n",
    "    u_plotter.show()"
   ]
  },
  {
   "cell_type": "code",
   "execution_count": 46,
   "id": "b3cb45ad",
   "metadata": {},
   "outputs": [
    {
     "data": {
      "application/vnd.jupyter.widget-view+json": {
       "model_id": "9b10aa37e81f46038fd6a0ec50a927a4",
       "version_major": 2,
       "version_minor": 0
      },
      "text/plain": [
       "Widget(value='<iframe src=\"http://localhost:32963/index.html?ui=P_0x7fc2bdfefc40_30&reconnect=auto\" class=\"pyv…"
      ]
     },
     "metadata": {},
     "output_type": "display_data"
    }
   ],
   "source": [
    "# plot the y component of the gradient\n",
    "u_topology, u_cell_types, u_geometry = plot.vtk_mesh(V)\n",
    "u_grid = pyvista.UnstructuredGrid(u_topology, u_cell_types, u_geometry)\n",
    "u_grid.point_data[\"u\"] = grad_y_uh_values.real\n",
    "u_grid.set_active_scalars(\"u\")\n",
    "u_plotter = pyvista.Plotter()\n",
    "u_plotter.add_mesh(u_grid, show_edges=False, cmap=\"bwr\")\n",
    "u_plotter.view_xy()\n",
    "if not pyvista.OFF_SCREEN:\n",
    "    u_plotter.show()"
   ]
  }
 ],
 "metadata": {
  "kernelspec": {
   "display_name": "pacs",
   "language": "python",
   "name": "python3"
  },
  "language_info": {
   "codemirror_mode": {
    "name": "ipython",
    "version": 3
   },
   "file_extension": ".py",
   "mimetype": "text/x-python",
   "name": "python",
   "nbconvert_exporter": "python",
   "pygments_lexer": "ipython3",
   "version": "3.10.13"
  }
 },
 "nbformat": 4,
 "nbformat_minor": 5
}
