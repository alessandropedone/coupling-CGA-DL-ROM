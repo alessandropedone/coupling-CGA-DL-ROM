{
 "cells": [
  {
   "cell_type": "code",
   "execution_count": 12,
   "id": "98b3f3da",
   "metadata": {},
   "outputs": [
    {
     "name": "stderr",
     "output_type": "stream",
     "text": [
      "Error   : Unable to open file 'convergence/geometry04.msh'\n"
     ]
    },
    {
     "ename": "Exception",
     "evalue": "Unable to open file 'convergence/geometry04.msh'",
     "output_type": "error",
     "traceback": [
      "\u001b[0;31m---------------------------------------------------------------------------\u001b[0m",
      "\u001b[0;31mException\u001b[0m                                 Traceback (most recent call last)",
      "\u001b[0;32m/tmp/ipykernel_61630/1169845485.py\u001b[0m in \u001b[0;36m?\u001b[0;34m()\u001b[0m\n\u001b[1;32m      2\u001b[0m \u001b[0;34m\u001b[0m\u001b[0m\n\u001b[1;32m      3\u001b[0m \u001b[0;31m# read a mesh from file capacitor.msh\u001b[0m\u001b[0;34m\u001b[0m\u001b[0;34m\u001b[0m\u001b[0m\n\u001b[1;32m      4\u001b[0m \u001b[0;32mfrom\u001b[0m \u001b[0mmpi4py\u001b[0m \u001b[0;32mimport\u001b[0m \u001b[0mMPI\u001b[0m\u001b[0;34m\u001b[0m\u001b[0;34m\u001b[0m\u001b[0m\n\u001b[1;32m      5\u001b[0m \u001b[0;32mfrom\u001b[0m \u001b[0mdolfinx\u001b[0m\u001b[0;34m.\u001b[0m\u001b[0mio\u001b[0m \u001b[0;32mimport\u001b[0m \u001b[0mgmshio\u001b[0m\u001b[0;34m\u001b[0m\u001b[0;34m\u001b[0m\u001b[0m\n\u001b[0;32m----> 6\u001b[0;31m \u001b[0mdomain\u001b[0m\u001b[0;34m,\u001b[0m \u001b[0mcell_tags\u001b[0m\u001b[0;34m,\u001b[0m \u001b[0mfacet_tags\u001b[0m \u001b[0;34m=\u001b[0m \u001b[0mgmshio\u001b[0m\u001b[0;34m.\u001b[0m\u001b[0mread_from_msh\u001b[0m\u001b[0;34m(\u001b[0m\u001b[0;34m\"convergence/geometry04.msh\"\u001b[0m\u001b[0;34m,\u001b[0m \u001b[0mMPI\u001b[0m\u001b[0;34m.\u001b[0m\u001b[0mCOMM_WORLD\u001b[0m\u001b[0;34m,\u001b[0m \u001b[0;36m0\u001b[0m\u001b[0;34m,\u001b[0m \u001b[0mgdim\u001b[0m\u001b[0;34m=\u001b[0m\u001b[0;36m2\u001b[0m\u001b[0;34m)\u001b[0m\u001b[0;34m\u001b[0m\u001b[0;34m\u001b[0m\u001b[0m\n\u001b[0m\u001b[1;32m      7\u001b[0m \u001b[0;34m\u001b[0m\u001b[0m\n\u001b[1;32m      8\u001b[0m \u001b[0;34m\u001b[0m\u001b[0m\n\u001b[1;32m      9\u001b[0m \u001b[0;31m# define finite element function space\u001b[0m\u001b[0;34m\u001b[0m\u001b[0;34m\u001b[0m\u001b[0m\n",
      "\u001b[0;32m~/anaconda3/envs/pacs/lib/python3.10/site-packages/dolfinx/io/gmshio.py\u001b[0m in \u001b[0;36m?\u001b[0;34m(filename, comm, rank, gdim, partitioner)\u001b[0m\n\u001b[1;32m    369\u001b[0m \u001b[0;34m\u001b[0m\u001b[0m\n\u001b[1;32m    370\u001b[0m     \u001b[0;32mif\u001b[0m \u001b[0mcomm\u001b[0m\u001b[0;34m.\u001b[0m\u001b[0mrank\u001b[0m \u001b[0;34m==\u001b[0m \u001b[0mrank\u001b[0m\u001b[0;34m:\u001b[0m\u001b[0;34m\u001b[0m\u001b[0;34m\u001b[0m\u001b[0m\n\u001b[1;32m    371\u001b[0m         \u001b[0mgmsh\u001b[0m\u001b[0;34m.\u001b[0m\u001b[0minitialize\u001b[0m\u001b[0;34m(\u001b[0m\u001b[0;34m)\u001b[0m\u001b[0;34m\u001b[0m\u001b[0;34m\u001b[0m\u001b[0m\n\u001b[1;32m    372\u001b[0m         \u001b[0mgmsh\u001b[0m\u001b[0;34m.\u001b[0m\u001b[0mmodel\u001b[0m\u001b[0;34m.\u001b[0m\u001b[0madd\u001b[0m\u001b[0;34m(\u001b[0m\u001b[0;34m\"Mesh from file\"\u001b[0m\u001b[0;34m)\u001b[0m\u001b[0;34m\u001b[0m\u001b[0;34m\u001b[0m\u001b[0m\n\u001b[0;32m--> 373\u001b[0;31m         \u001b[0mgmsh\u001b[0m\u001b[0;34m.\u001b[0m\u001b[0mmerge\u001b[0m\u001b[0;34m(\u001b[0m\u001b[0mstr\u001b[0m\u001b[0;34m(\u001b[0m\u001b[0mfilename\u001b[0m\u001b[0;34m)\u001b[0m\u001b[0;34m)\u001b[0m\u001b[0;34m\u001b[0m\u001b[0;34m\u001b[0m\u001b[0m\n\u001b[0m\u001b[1;32m    374\u001b[0m         \u001b[0mmsh\u001b[0m \u001b[0;34m=\u001b[0m \u001b[0mmodel_to_mesh\u001b[0m\u001b[0;34m(\u001b[0m\u001b[0mgmsh\u001b[0m\u001b[0;34m.\u001b[0m\u001b[0mmodel\u001b[0m\u001b[0;34m,\u001b[0m \u001b[0mcomm\u001b[0m\u001b[0;34m,\u001b[0m \u001b[0mrank\u001b[0m\u001b[0;34m,\u001b[0m \u001b[0mgdim\u001b[0m\u001b[0;34m=\u001b[0m\u001b[0mgdim\u001b[0m\u001b[0;34m,\u001b[0m \u001b[0mpartitioner\u001b[0m\u001b[0;34m=\u001b[0m\u001b[0mpartitioner\u001b[0m\u001b[0;34m)\u001b[0m\u001b[0;34m\u001b[0m\u001b[0;34m\u001b[0m\u001b[0m\n\u001b[1;32m    375\u001b[0m         \u001b[0mgmsh\u001b[0m\u001b[0;34m.\u001b[0m\u001b[0mfinalize\u001b[0m\u001b[0;34m(\u001b[0m\u001b[0;34m)\u001b[0m\u001b[0;34m\u001b[0m\u001b[0;34m\u001b[0m\u001b[0m\n\u001b[1;32m    376\u001b[0m         \u001b[0;32mreturn\u001b[0m \u001b[0mmsh\u001b[0m\u001b[0;34m\u001b[0m\u001b[0;34m\u001b[0m\u001b[0m\n",
      "\u001b[0;32m~/anaconda3/envs/pacs/lib/python3.10/site-packages/gmsh.py\u001b[0m in \u001b[0;36m?\u001b[0;34m(fileName)\u001b[0m\n\u001b[1;32m    355\u001b[0m     lib.gmshMerge(\n\u001b[1;32m    356\u001b[0m         \u001b[0mc_char_p\u001b[0m\u001b[0;34m(\u001b[0m\u001b[0mfileName\u001b[0m\u001b[0;34m.\u001b[0m\u001b[0mencode\u001b[0m\u001b[0;34m(\u001b[0m\u001b[0;34m)\u001b[0m\u001b[0;34m)\u001b[0m\u001b[0;34m,\u001b[0m\u001b[0;34m\u001b[0m\u001b[0;34m\u001b[0m\u001b[0m\n\u001b[1;32m    357\u001b[0m         byref(ierr))\n\u001b[1;32m    358\u001b[0m     \u001b[0;32mif\u001b[0m \u001b[0mierr\u001b[0m\u001b[0;34m.\u001b[0m\u001b[0mvalue\u001b[0m \u001b[0;34m!=\u001b[0m \u001b[0;36m0\u001b[0m\u001b[0;34m:\u001b[0m\u001b[0;34m\u001b[0m\u001b[0;34m\u001b[0m\u001b[0m\n\u001b[0;32m--> 359\u001b[0;31m         \u001b[0;32mraise\u001b[0m \u001b[0mException\u001b[0m\u001b[0;34m(\u001b[0m\u001b[0mlogger\u001b[0m\u001b[0;34m.\u001b[0m\u001b[0mgetLastError\u001b[0m\u001b[0;34m(\u001b[0m\u001b[0;34m)\u001b[0m\u001b[0;34m)\u001b[0m\u001b[0;34m\u001b[0m\u001b[0;34m\u001b[0m\u001b[0m\n\u001b[0m",
      "\u001b[0;31mException\u001b[0m: Unable to open file 'convergence/geometry04.msh'"
     ]
    }
   ],
   "source": [
    "# LAPLACE EQUATION WITH DIRICHLET BOUNDARY CONDITIONS\n",
    "\n",
    "# read a mesh from file capacitor.msh\n",
    "from mpi4py import MPI\n",
    "from dolfinx.io import gmshio\n",
    "domain, cell_tags, facet_tags = gmshio.read_from_msh(\"convergence/geometry04.msh\", MPI.COMM_WORLD, 0, gdim=2)\n",
    "\n",
    "\n",
    "# define finite element function space\n",
    "from dolfinx.fem import functionspace\n",
    "import numpy as np\n",
    "V = functionspace(domain, (\"Lagrange\", 1))\n",
    "\n",
    "# identify the boundary (create facet to cell connectivity required to determine boundary facets)\n",
    "from dolfinx import default_scalar_type\n",
    "from dolfinx.fem import (Constant, dirichletbc, locate_dofs_topological)\n",
    "from dolfinx.fem.petsc import LinearProblem\n",
    "tdim = domain.topology.dim\n",
    "fdim = tdim - 1\n",
    "domain.topology.create_connectivity(fdim, tdim)\n",
    "\n",
    "# Find facets marked with 2 and 3 (the two rectangles)\n",
    "facets_rect1 = np.concatenate([facet_tags.find(10), facet_tags.find(11)])\n",
    "facets_rect2 = facet_tags.find(12)\n",
    "\n",
    "# Locate degrees of freedom\n",
    "dofs_rect1 = locate_dofs_topological(V, fdim, facets_rect1)\n",
    "dofs_rect2 = locate_dofs_topological(V, fdim, facets_rect2)\n",
    "\n",
    "# Define different Dirichlet values\n",
    "u_rect1 = Constant(domain, 0.0)\n",
    "u_rect2 = Constant(domain, 1.0)\n",
    "\n",
    "# Create BCs\n",
    "bc1 = dirichletbc(u_rect1, dofs_rect1, V)\n",
    "bc2 = dirichletbc(u_rect2, dofs_rect2, V)\n",
    "\n",
    "bcs = [bc1, bc2]\n",
    "\n",
    "# trial and test functions\n",
    "import ufl\n",
    "u = ufl.TrialFunction(V)\n",
    "v = ufl.TestFunction(V)\n",
    "\n",
    "# source term\n",
    "from dolfinx import default_scalar_type\n",
    "from dolfinx import fem\n",
    "f = fem.Constant(domain, default_scalar_type(0.0))\n",
    "\n",
    "# variational problem\n",
    "a = ufl.dot(ufl.grad(u), ufl.grad(v)) * ufl.dx\n",
    "L = f * v * ufl.dx\n",
    "\n",
    "# assemble the system\n",
    "from dolfinx.fem.petsc import LinearProblem\n",
    "problem = LinearProblem(a, L, bcs=bcs, petsc_options={\"ksp_type\": \"preonly\", \"pc_type\": \"lu\"})\n",
    "uh = problem.solve()\n",
    "\n",
    "\n",
    "\n",
    "# APPROXIMATION OF THE GRADIENT OF THE SOLUTION\n",
    "\n",
    "import ufl\n",
    "\n",
    "# Define the vector function space for the gradient\n",
    "V_vec = fem.functionspace(domain, (\"Lagrange\", 1, (domain.geometry.dim, )))\n",
    "\n",
    "# Define the trial and test functions for the vector space\n",
    "u_vec = ufl.TrialFunction(V_vec)\n",
    "v_vec = ufl.TestFunction(V_vec)\n",
    "\n",
    "# Define the gradient of the solution\n",
    "grad_u = ufl.grad(uh)\n",
    "\n",
    "# Define the bilinear and linear forms\n",
    "a_grad = ufl.inner(u_vec, v_vec) * ufl.dx\n",
    "L_grad = ufl.inner(grad_u, v_vec) * ufl.dx\n",
    "\n",
    "# Assemble the system\n",
    "from dolfinx.fem.petsc import LinearProblem\n",
    "problem_grad = LinearProblem(a_grad, L_grad, petsc_options={\"ksp_type\": \"preonly\", \"pc_type\": \"lu\"})\n",
    "grad_uh = problem_grad.solve()\n",
    "\n",
    "\n",
    "# PLOTTING THE GRADIENT OF THE SOLUTION ON THE UPPER PLATE\n",
    "\n",
    "# Step 1: Find facets with tag 10\n",
    "facets10 = facet_tags.find(10)\n",
    "dofs10 = locate_dofs_topological(V, fdim, facets10)\n",
    "\n",
    "# Step 2: Extract the x-coordinates and the y-coordinates of the DOFs\n",
    "x_dofs = V.tabulate_dof_coordinates()[dofs10]\n",
    "x_coords = x_dofs[:, 0]\n",
    "y_coords = x_dofs[:, 1]\n",
    "\n",
    "# Step 3: Evaluate grad_uh at those DOFs\n",
    "dim = domain.geometry.dim\n",
    "grad_x_uh_values = grad_uh.x.array[0::dim]\n",
    "grad_y_uh_values = grad_uh.x.array[1::dim]\n",
    "grad_x_uh_plate = grad_x_uh_values[dofs10]\n",
    "grad_y_uh_plate = grad_y_uh_values[dofs10]\n",
    "\n",
    "\n",
    "import matplotlib.pyplot as plt\n",
    "# Plot grad_y_uh_plate against x_coords\n",
    "\n",
    "# Sort x_coords and apply the same ordering to grad_y_uh_plate\n",
    "sorted_indices = np.argsort(x_coords)\n",
    "x_coords = x_coords[sorted_indices]\n",
    "grad_y_uh_plate = grad_y_uh_plate[sorted_indices]\n",
    "plt.plot(x_coords, grad_y_uh_plate, label=\"grad_y_uh_plate\", color=\"blue\", linestyle=\"-\")\n",
    "plt.xlim(-50, 50)\n",
    "plt.xlabel(\"x_coords\")\n",
    "plt.ylabel(\"grad_y_uh_plate\")\n",
    "plt.title(\"Plot of grad_y_uh_plate vs x_coords\")\n",
    "plt.legend()\n",
    "plt.grid(True)\n",
    "plt.show()\n"
   ]
  },
  {
   "cell_type": "code",
   "execution_count": null,
   "id": "64b94590",
   "metadata": {},
   "outputs": [
    {
     "name": "stdout",
     "output_type": "stream",
     "text": [
      "trame\n"
     ]
    },
    {
     "data": {
      "application/vnd.jupyter.widget-view+json": {
       "model_id": "224dcd68f8c146b8b7c1ef8a6816145b",
       "version_major": 2,
       "version_minor": 0
      },
      "text/plain": [
       "Widget(value='<iframe src=\"http://localhost:34693/index.html?ui=P_0x7fc0144c36d0_6&reconnect=auto\" class=\"pyvi…"
      ]
     },
     "metadata": {},
     "output_type": "display_data"
    }
   ],
   "source": [
    "import pyvista\n",
    "pyvista.OFF_SCREEN = False\n",
    "print(pyvista.global_theme.jupyter_backend)\n",
    "\n",
    "from dolfinx import plot\n",
    "pyvista.start_xvfb()\n",
    "domain.topology.create_connectivity(tdim, tdim)\n",
    "\n",
    "# plot the solution\n",
    "u_topology, u_cell_types, u_geometry = plot.vtk_mesh(V)\n",
    "u_grid = pyvista.UnstructuredGrid(u_topology, u_cell_types, u_geometry)\n",
    "u_grid.point_data[\"u\"] = uh.x.array.real\n",
    "u_grid.set_active_scalars(\"u\")\n",
    "u_plotter = pyvista.Plotter()\n",
    "u_plotter.add_mesh(u_grid, show_edges=False, cmap=\"bwr\")\n",
    "u_plotter.view_xy()\n",
    "if not pyvista.OFF_SCREEN:\n",
    "    u_plotter.show()"
   ]
  },
  {
   "cell_type": "code",
   "execution_count": null,
   "id": "a1f551a5",
   "metadata": {},
   "outputs": [
    {
     "data": {
      "application/vnd.jupyter.widget-view+json": {
       "model_id": "19bf4e44627f448eb6ff926739a4c13c",
       "version_major": 2,
       "version_minor": 0
      },
      "text/plain": [
       "Widget(value='<iframe src=\"http://localhost:34693/index.html?ui=P_0x7fc05e039720_7&reconnect=auto\" class=\"pyvi…"
      ]
     },
     "metadata": {},
     "output_type": "display_data"
    }
   ],
   "source": [
    "# plot the x component of the gradient\n",
    "u_topology, u_cell_types, u_geometry = plot.vtk_mesh(V)\n",
    "u_grid = pyvista.UnstructuredGrid(u_topology, u_cell_types, u_geometry)\n",
    "u_grid.point_data[\"u\"] = grad_x_uh_values.real\n",
    "u_grid.set_active_scalars(\"u\")\n",
    "u_plotter = pyvista.Plotter()\n",
    "u_plotter.add_mesh(u_grid, show_edges=False, cmap=\"bwr\")\n",
    "u_plotter.view_xy()\n",
    "if not pyvista.OFF_SCREEN:\n",
    "    u_plotter.show()"
   ]
  },
  {
   "cell_type": "code",
   "execution_count": null,
   "id": "b3cb45ad",
   "metadata": {},
   "outputs": [
    {
     "data": {
      "application/vnd.jupyter.widget-view+json": {
       "model_id": "45f3ca88a2c646a6b8ac80ed5e4c84ea",
       "version_major": 2,
       "version_minor": 0
      },
      "text/plain": [
       "Widget(value='<iframe src=\"http://localhost:34693/index.html?ui=P_0x7fc01db7dea0_8&reconnect=auto\" class=\"pyvi…"
      ]
     },
     "metadata": {},
     "output_type": "display_data"
    }
   ],
   "source": [
    "# plot the y component of the gradient\n",
    "u_topology, u_cell_types, u_geometry = plot.vtk_mesh(V)\n",
    "u_grid = pyvista.UnstructuredGrid(u_topology, u_cell_types, u_geometry)\n",
    "u_grid.point_data[\"u\"] = grad_y_uh_values.real\n",
    "u_grid.set_active_scalars(\"u\")\n",
    "u_plotter = pyvista.Plotter()\n",
    "u_plotter.add_mesh(u_grid, show_edges=False, cmap=\"bwr\")\n",
    "u_plotter.view_xy()\n",
    "if not pyvista.OFF_SCREEN:\n",
    "    u_plotter.show()"
   ]
  }
 ],
 "metadata": {
  "kernelspec": {
   "display_name": "pacs",
   "language": "python",
   "name": "python3"
  },
  "language_info": {
   "codemirror_mode": {
    "name": "ipython",
    "version": 3
   },
   "file_extension": ".py",
   "mimetype": "text/x-python",
   "name": "python",
   "nbconvert_exporter": "python",
   "pygments_lexer": "ipython3",
   "version": "3.10.13"
  }
 },
 "nbformat": 4,
 "nbformat_minor": 5
}
